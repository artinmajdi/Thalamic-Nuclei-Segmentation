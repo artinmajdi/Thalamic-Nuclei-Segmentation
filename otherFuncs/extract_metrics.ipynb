{
 "cells": [
  {
   "cell_type": "markdown",
   "metadata": {},
   "source": [
    "## Importing Packages"
   ]
  },
  {
   "cell_type": "code",
   "execution_count": 104,
   "metadata": {},
   "outputs": [],
   "source": [
    "import nibabel as nib\n",
    "import os,sys\n",
    "import numpy as np\n",
    "from scipy.spatial.distance import directed_hausdorff\n",
    "from tqdm import tqdm\n",
    "import pandas as pd"
   ]
  },
  {
   "cell_type": "markdown",
   "metadata": {},
   "source": [
    "## Functions"
   ]
  },
  {
   "cell_type": "code",
   "execution_count": 113,
   "metadata": {},
   "outputs": [],
   "source": [
    "fix_dir =  lambda x: os.path.abspath(x) + '/'\n",
    "\n",
    "Nuclei = {\n",
    "            1: '1-THALAMUS',\n",
    "            2: '2-AV',\n",
    "            4: '4-VA',\n",
    "            5: '5-VLa',\n",
    "            6: '6-VLP',\n",
    "            7: '7-VPL',\n",
    "            8: '8-Pul',\n",
    "            9: '9-LGN',\n",
    "            10: '10-MGN',\n",
    "            11: '11-CM',\n",
    "            12: '12-MD-Pf',\n",
    "            13: '13-Hb',\n",
    "            14: '14-MTT'}\n",
    "\n",
    "\n",
    "def normalize_decorator(function):\n",
    "    def wrapper(dir):\n",
    "        im, imD = function(dir)\n",
    "        return (im, imD > imD.max() / 2)\n",
    "    return wrapper\n",
    "\n",
    "\n",
    "@normalize_decorator\n",
    "def load_image(dir):\n",
    "    true = nib.load(dir)\n",
    "    return ( true , true.get_fdata() )\n",
    "    \n",
    "\n",
    "class MeasureMetrics():\n",
    "    def __init__(self, true, pred):\n",
    "        # assert isinstance(true, bool)\n",
    "        # assert isinstance(pred, bool)\n",
    "\n",
    "        true = true > true.max()/2\n",
    "        pred = pred > pred.max()/2\n",
    "\n",
    "        vsi = lambda X, Y: 1 - (np.abs(X.sum() - Y.sum()) / (X.sum() + Y.sum()))\n",
    "        dice = lambda X, Y: (X * Y).sum() * 2 / (X.sum() + Y.sum() + np.finfo(float).eps)\n",
    "\n",
    "        def hd(X, Y):\n",
    "            a = np.zeros((Y.shape[2], 2))\n",
    "            for i in range(Y.shape[2]):\n",
    "                a[i, :] = [Y[..., i].sum(), directed_hausdorff(Y[..., i], X[..., i])[0]]\n",
    "\n",
    "            return np.sum(a[:, 0] * a[:, 1]) / np.sum(a[:, 0])\n",
    "\n",
    "        self.VSI = vsi(pred, true)\n",
    "        self.DICE = dice(pred, true)\n",
    "        self.HD = hd(pred, true)\n",
    "        self.VOLUME_TRUE = true.sum()\n",
    "        self.VOLUME_PRED = pred.sum()\n",
    "\n",
    "\n",
    "def loop_all_nuclei(dir_true: str, dir_pred: str):\n",
    "    assert isinstance(dir_true, str)\n",
    "    assert isinstance(dir_pred, str)\n",
    "\n",
    "    DICE, VSI, HD, VOLUME_TRUE, VOLUME_PRED = [], [], [], [], []\n",
    "    for nucleus in Nuclei.items():\n",
    "\n",
    "        true, trueD = load_image(os.path.abspath(dir_true) + '/Label/' + nucleus[1] + '_PProcessed.nii.gz')\n",
    "        pred, predD = load_image(os.path.abspath(dir_pred) + '/' + nucleus[1] + '.nii.gz')\n",
    "\n",
    "\n",
    "        resolution = {'true': true.header['pixdim'][1:4], 'pred': pred.header['pixdim'][1:4]}\n",
    "\n",
    "        metrics_nucleus = MeasureMetrics(trueD, predD)\n",
    "\n",
    "        DICE.append(metrics_nucleus.DICE)\n",
    "        VSI.append(metrics_nucleus.VSI)\n",
    "        HD.append(metrics_nucleus.HD)\n",
    "        VOLUME_TRUE.append(metrics_nucleus.VOLUME_TRUE * resolution['true'].prod())\n",
    "        VOLUME_PRED.append(metrics_nucleus.VOLUME_PRED * resolution['pred'].prod())\n",
    "\n",
    "    return DICE, VSI, HD, VOLUME_TRUE, VOLUME_PRED\n",
    "\n",
    "def loop_all_subjects(dir_true, dir_pred):\n",
    "\n",
    "    assert os.path.exists(dir_true) \n",
    "    assert os.path.exists(dir_pred)\n",
    "\n",
    "    SUBJECTS_TRUE = set([v for v in os.listdir(dir_true) if 'vimp' in v])\n",
    "    SUBJECTS_PRED = set([v for v in os.listdir(dir_pred) if 'vimp' in v])\n",
    "\n",
    "    DICE, VSI, HD, VOLUME_TRUE, VOLUME_PRED = {}, {}, {}, {}, {}\n",
    "    for subject in SUBJECTS_PRED.intersection(SUBJECTS_TRUE):\n",
    "\n",
    "        dir_true_subject = os.path.abspath(dir_true) + '/'  + subject\n",
    "        dir_pred_subject = os.path.abspath(dir_pred) + '/'  + subject\n",
    "\n",
    "        DICE[subject], VSI[subject], HD[subject], VOLUME_TRUE[subject], VOLUME_PRED[subject] = loop_all_nuclei(dir_true_subject , dir_pred_subject)\n",
    "\n",
    "\n",
    "    return DICE, VSI, HD, VOLUME_TRUE, VOLUME_PRED\n",
    "\n",
    "\n",
    "class UpdatingMetrics():\n",
    "    \"\"\" This class loops over all subjects inside the directory, measure Dice, HD, VSI, Volume, Volume-Manual \n",
    "        and merge them into their corresponding dictionary \"\"\"\n",
    "\n",
    "    def __init__(self):\n",
    "        self.DICE_FULL, self.VSI_FULL, self.HD_FULL, self.VOLUME_TRUE_FULL, self.VOLUME_PRED_FULL = {},{},{},{},{}\n",
    "\n",
    "    def measure(self, dir_true:str, dir_pred:str ):\n",
    "\n",
    "        DICE, VSI, HD, VOLUME_TRUE, VOLUME_PRED = loop_all_subjects(dir_true, dir_pred)\n",
    "\n",
    "        self.DICE_FULL.update(DICE)\n",
    "        self.VSI_FULL.update(VSI)\n",
    "        self.HD_FULL.update(HD)\n",
    "        self.VOLUME_TRUE_FULL.update(VOLUME_TRUE)\n",
    "        self.VOLUME_PRED_FULL.update(VOLUME_PRED)\n",
    "\n",
    "    def write_xlsx(self, dir_output):\n",
    "        \"\"\" saving the measured metrics into an Exel file \"\"\"\n",
    "        \n",
    "        NAMES = [item[1] for item in Nuclei.items()]\n",
    "        with pd.ExcelWriter(dir_output) as writer:  \n",
    "            for values, sheet_name in [ (self.DICE_FULL,'Dice') , (self.VSI_FULL,'VSI') , (self.HD_FULL,'HD') , (self.VOLUME_PRED_FULL,'Volume') , (self.VOLUME_TRUE_FULL,'Volume-Mn') ]:\n",
    "                pd.DataFrame(values, index=NAMES).T.to_excel(writer, sheet_name=sheet_name)"
   ]
  },
  {
   "cell_type": "markdown",
   "metadata": {},
   "source": [
    "## WMn-MPRAGE:  Running on All Subjects"
   ]
  },
  {
   "cell_type": "code",
   "execution_count": 114,
   "metadata": {},
   "outputs": [
    {
     "name": "stderr",
     "output_type": "stream",
     "text": "100%|██████████| 8/8 [00:00<00:00, 452.70it/s]\n100%|██████████| 8/8 [00:00<00:00, 10958.34it/s]\n"
    }
   ],
   "source": [
    "UM = UpdatingMetrics()\n",
    "\n",
    "dir_pred = '/Users/artinmac/GoogleDrive/RESEARCH/projects/Thalamus/Results/2nd-Submission/final-Method-Dice_VSI_HD/Cases/WMn'\n",
    "for disease_type in ['Main', 'ET']:\n",
    "    for x in tqdm('a b c d e f g h'.split()):\n",
    "        \n",
    "        dir_true = f'/Volumes/Elements/Research/Thalamus/Datasets/{disease_type}/{x}'\n",
    "        UM.measure(dir_true=dir_true, dir_pred=dir_pred)\n",
    "\n",
    "\n",
    "# Wrting the results\n",
    "UM.write_xlsx(dir_output=dir_pred + ' All Metrics.xlsx')"
   ]
  },
  {
   "cell_type": "markdown",
   "metadata": {},
   "source": [
    "## CSFn-MPRAGE:  Running on All Subjects"
   ]
  },
  {
   "cell_type": "code",
   "execution_count": 115,
   "metadata": {},
   "outputs": [
    {
     "name": "stderr",
     "output_type": "stream",
     "text": "100%|██████████| 4/4 [01:26<00:00, 21.50s/it]\n"
    }
   ],
   "source": [
    "UM = UpdatingMetrics()\n",
    "\n",
    "dir_pred = '/Users/artinmac/GoogleDrive/RESEARCH/projects/Thalamus/Results/2nd-Submission/final-Method-Dice_VSI_HD/Cases/CSFn'\n",
    "for x in tqdm('a b c d'.split()):\n",
    "    dir_true = f'/Volumes/Elements/Research/Thalamus/Datasets/CSFn2/{x}'\n",
    "    UM.measure(dir_true=dir_true, dir_pred=dir_pred)\n",
    "\n",
    "\n",
    "# Wrting the results\n",
    "UM.write_xlsx(dir_output=dir_pred + ' All Metrics.xlsx')"
   ]
  },
  {
   "cell_type": "code",
   "execution_count": null,
   "metadata": {},
   "outputs": [],
   "source": [
    "r"
   ]
  }
 ],
 "metadata": {
  "kernelspec": {
   "display_name": "Python 3",
   "language": "python",
   "name": "python3"
  },
  "language_info": {
   "codemirror_mode": {
    "name": "ipython",
    "version": 3
   },
   "file_extension": ".py",
   "mimetype": "text/x-python",
   "name": "python",
   "nbconvert_exporter": "python",
   "pygments_lexer": "ipython3",
   "version": "3.7.4-final"
  }
 },
 "nbformat": 4,
 "nbformat_minor": 4
}