{
 "nbformat": 4,
 "nbformat_minor": 2,
 "metadata": {
  "language_info": {
   "name": "python",
   "codemirror_mode": {
    "name": "ipython",
    "version": 3
   },
   "version": "3.7.4-final"
  },
  "orig_nbformat": 2,
  "file_extension": ".py",
  "mimetype": "text/x-python",
  "name": "python",
  "npconvert_exporter": "python",
  "pygments_lexer": "ipython3",
  "version": 3,
  "kernelspec": {
   "name": "python3",
   "display_name": "Python 3"
  }
 },
 "cells": [
  {
   "cell_type": "code",
   "execution_count": null,
   "metadata": {},
   "outputs": [],
   "source": [
    "import numpy as np\n",
    "import os\n",
    "import nibabel as nib\n",
    "import matplotlib.pyplot as plt\n",
    "from matplotlib.patches import Rectangle\n",
    "from numpy.fft import fftshift, fft2\n",
    "%matplotlib"
   ]
  },
  {
   "cell_type": "markdown",
   "metadata": {},
   "source": [
    "### Reading the input image"
   ]
  },
  {
   "cell_type": "code",
   "execution_count": 3,
   "metadata": {},
   "outputs": [],
   "source": [
    "direcotry_main = r'/Users/artinmac/Google Drive/RESEARCH/Projects/Thalamus/Results/2nd Submission/SNR test/vimp2_967_08132013_KW/vimp2_orig_SNR_10000/'\n",
    "im = nib.load(direcotry_main + 'WMnMPRAGE_bias_corr.nii.gz').get_data()\n",
    "MAX = im.max()\n",
    "# nib.viewers.OrthoSlicer3D(im/im.max()).show()"
   ]
  },
  {
   "cell_type": "markdown",
   "metadata": {},
   "source": [
    "### Cropping the Signal & Noise"
   ]
  },
  {
   "cell_type": "code",
   "execution_count": 24,
   "metadata": {},
   "outputs": [],
   "source": [
    "thalamus = im[100:135,165:205,120]\n",
    "background = im[:50,:50,120]"
   ]
  },
  {
   "cell_type": "markdown",
   "metadata": {},
   "source": [
    "### Measuring SNR"
   ]
  },
  {
   "cell_type": "code",
   "execution_count": 48,
   "metadata": {},
   "outputs": [
    {
     "name": "stdout",
     "output_type": "stream",
     "text": "SNR: 23.477282524108887\n"
    }
   ],
   "source": [
    "psd_signal = np.mean(abs(fftshift(fft2(thalamus/MAX)))**2)\n",
    "psd_noise = np.mean(abs(fftshift(fft2(background/MAX)))**2)\n",
    "\n",
    "SNR = 10*np.log10(psd_signal/psd_noise) \n",
    "print('SNR:', SNR)"
   ]
  },
  {
   "cell_type": "markdown",
   "metadata": {},
   "source": [
    "### Plotting the Output"
   ]
  },
  {
   "cell_type": "code",
   "execution_count": 77,
   "metadata": {},
   "outputs": [
    {
     "data": {
      "text/plain": "Text(0.5, 1, 'SNR = 10*log10( PSD-signal/PSD-noise ) =  23.5')"
     },
     "execution_count": 77,
     "metadata": {},
     "output_type": "execute_result"
    }
   ],
   "source": [
    "ax = plt.subplot(111)\n",
    "plt.imshow(im[...,120]/MAX,cmap='gray')\n",
    "currentAxis = plt.gca()\n",
    "currentAxis.add_patch(Rectangle([165,100],35,40,0,fill=False,color='red'))\n",
    "ax.text(205, 120, f'PSD {psd_signal: 1.2f}dB',color='red')\n",
    "currentAxis.add_patch(Rectangle([0,0],50,50,0,fill=False,color='red'))\n",
    "ax.text(55, 20, f'PSD {psd_noise: 1.2f}dB',color='red')\n",
    "plt.title(f'SNR = 10*log10( PSD-signal/PSD-noise ) = {SNR: 1.1f}')"
   ]
  }
 ]
}