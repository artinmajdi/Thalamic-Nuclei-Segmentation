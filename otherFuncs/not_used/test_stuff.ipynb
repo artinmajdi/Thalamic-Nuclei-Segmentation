{
 "metadata": {
  "language_info": {
   "codemirror_mode": {
    "name": "ipython",
    "version": 3
   },
   "file_extension": ".py",
   "mimetype": "text/x-python",
   "name": "python",
   "nbconvert_exporter": "python",
   "pygments_lexer": "ipython3",
   "version": "3.7.9-final"
  },
  "orig_nbformat": 2,
  "kernelspec": {
   "name": "Python 3.7.9 64-bit ('thalamus': conda)",
   "display_name": "Python 3.7.9 64-bit ('thalamus': conda)",
   "metadata": {
    "interpreter": {
     "hash": "20e827ed94325bb08e7aea52cc8d6764835cf590817922a28a35cb1edd0dc7a1"
    }
   }
  }
 },
 "nbformat": 4,
 "nbformat_minor": 2,
 "cells": [
  {
   "cell_type": "code",
   "execution_count": 8,
   "metadata": {},
   "outputs": [],
   "source": [
    "import pathlib\n",
    "import os,sys\n",
    "import numpy as np"
   ]
  },
  {
   "cell_type": "code",
   "execution_count": 56,
   "metadata": {},
   "outputs": [
    {
     "output_type": "execute_result",
     "data": {
      "text/plain": [
       "'/array/ssd/msmajdi/test'"
      ]
     },
     "metadata": {},
     "execution_count": 56
    }
   ],
   "source": [
    "os.path.abspath('/array/ssd/msmajdi/test/')"
   ]
  },
  {
   "cell_type": "code",
   "execution_count": 47,
   "metadata": {},
   "outputs": [
    {
     "output_type": "execute_result",
     "data": {
      "text/plain": [
       "PosixPath('/array/ssd/msmajdi/code/thalamus/otherFuncs/not_used/msmajdi')"
      ]
     },
     "metadata": {},
     "execution_count": 47
    }
   ],
   "source": [
    "pathlib.Path('msmajdi/').absolute()"
   ]
  },
  {
   "cell_type": "code",
   "execution_count": 43,
   "metadata": {},
   "outputs": [
    {
     "output_type": "execute_result",
     "data": {
      "text/plain": [
       "'/'"
      ]
     },
     "metadata": {},
     "execution_count": 43
    }
   ],
   "source": [
    "a = "
   ]
  },
  {
   "cell_type": "code",
   "execution_count": null,
   "metadata": {},
   "outputs": [],
   "source": []
  }
 ]
}