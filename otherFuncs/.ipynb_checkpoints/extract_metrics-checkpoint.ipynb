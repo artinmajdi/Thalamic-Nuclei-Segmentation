{
 "cells": [
  {
   "cell_type": "markdown",
   "metadata": {},
   "source": [
    "## Importing Packages"
   ]
  },
  {
   "cell_type": "code",
   "execution_count": 47,
   "metadata": {},
   "outputs": [],
   "source": [
    "import nibabel as nib\n",
    "import os,sys\n",
    "import numpy as np"
   ]
  },
  {
   "cell_type": "markdown",
   "metadata": {},
   "source": [
    "## Functions"
   ]
  },
  {
   "cell_type": "code",
   "execution_count": 41,
   "metadata": {},
   "outputs": [],
   "source": [
    "fix_dir =  lambda x: os.path.abspath(x) + '/'\n",
    "\n",
    "Nuclei = {\n",
    "            1: '1-THALAMUS',\n",
    "            2: '2-AV',\n",
    "            4: '4-VA',\n",
    "            5: '5-VLa',\n",
    "            6: '6-VLP',\n",
    "            7: '7-VPL',\n",
    "            8: '8-Pul',\n",
    "            9: '9-LGN',\n",
    "            10: '10-MGN',\n",
    "            11: '11-CM',\n",
    "            12: '12-MD-Pf',\n",
    "            13: '13-Hb',\n",
    "            14: '14-MTT'}"
   ]
  },
  {
   "cell_type": "markdown",
   "metadata": {},
   "source": [
    "## Directory"
   ]
  },
  {
   "cell_type": "code",
   "execution_count": 30,
   "metadata": {},
   "outputs": [],
   "source": [
    "directory_main = '/Users/artinmac/GoogleDrive/RESEARCH/projects/Thalamus/Results/2nd-Submission/Final-Method-Dice_VSI_HD/Cases'"
   ]
  },
  {
   "cell_type": "code",
   "execution_count": 31,
   "metadata": {},
   "outputs": [],
   "source": [
    "list_subjects = [v for v in os.listdir(directory_main + '/Wmn/')]"
   ]
  },
  {
   "cell_type": "code",
   "execution_count": 34,
   "metadata": {},
   "outputs": [],
   "source": [
    "dir = directory_main + '/WMn/' + list_subjects[0]"
   ]
  },
  {
   "cell_type": "code",
   "execution_count": 39,
   "metadata": {},
   "outputs": [
    {
     "name": "stdout",
     "output_type": "stream",
     "text": [
      "\u001b[1m\u001b[32m1-THALAMUS.nii.gz\u001b[m\u001b[m \u001b[1m\u001b[32m14-MTT.nii.gz\u001b[m\u001b[m     \u001b[1m\u001b[32m7-VPL.nii.gz\u001b[m\u001b[m      \u001b[1m\u001b[32mHD_All.txt\u001b[m\u001b[m\n",
      "\u001b[1m\u001b[32m10-MGN.nii.gz\u001b[m\u001b[m     \u001b[1m\u001b[32m2-AV.nii.gz\u001b[m\u001b[m       \u001b[1m\u001b[32m8-Pul.nii.gz\u001b[m\u001b[m      \u001b[1m\u001b[32mVSI_All.txt\u001b[m\u001b[m\n",
      "\u001b[1m\u001b[32m11-CM.nii.gz\u001b[m\u001b[m      \u001b[1m\u001b[32m4-VA.nii.gz\u001b[m\u001b[m       \u001b[1m\u001b[32m9-LGN.nii.gz\u001b[m\u001b[m\n",
      "\u001b[1m\u001b[32m12-MD-Pf.nii.gz\u001b[m\u001b[m   \u001b[1m\u001b[32m5-VLa.nii.gz\u001b[m\u001b[m      \u001b[1m\u001b[32mAllLabels2.nii.gz\u001b[m\u001b[m\n",
      "\u001b[1m\u001b[32m13-Hb.nii.gz\u001b[m\u001b[m      \u001b[1m\u001b[32m6-VLP.nii.gz\u001b[m\u001b[m      \u001b[1m\u001b[32mDice_All.txt\u001b[m\u001b[m\n"
     ]
    }
   ],
   "source": [
    "!ls $dir"
   ]
  },
  {
   "cell_type": "code",
   "execution_count": 45,
   "metadata": {},
   "outputs": [],
   "source": [
    "prediction = nib.load(dir + '/' + Nuclei[1] + '.nii.gz').get_fdata()\n",
    "prediction = prediction > prediction.max()/2  \n",
    "\n",
    "VSI[cnt,:]  = [nucleiIx , metrics.VSI_AllClasses(prediction, ManualLabel).VSI()]\n",
    "HD[cnt,:]   = [nucleiIx , metrics.HD_AllClasses(prediction, ManualLabel).HD()]\n",
    "Dice[cnt,:] = [nucleiIx , smallFuncs.mDice(prediction, ManualLabel)]"
   ]
  },
  {
   "cell_type": "code",
   "execution_count": 48,
   "metadata": {},
   "outputs": [
    {
     "data": {
      "text/plain": [
       "array([0., 1.])"
      ]
     },
     "execution_count": 48,
     "metadata": {},
     "output_type": "execute_result"
    }
   ],
   "source": []
  },
  {
   "cell_type": "markdown",
   "metadata": {},
   "source": [
    "## Apply To All Classes"
   ]
  },
  {
   "cell_type": "code",
   "execution_count": null,
   "metadata": {},
   "outputs": [],
   "source": [
    "class measure_metrics_all_nuclei():\n",
    "    def __init__(self, y_true,y_pred):\n",
    "        self.true = y_true\n",
    "        self.pred = y_pred\n",
    "\n",
    "    def VSI(self):\n",
    "        X = self.true.sum()\n",
    "        Y = self.pred.sum()   \n",
    "        return 1 - ( np.abs(X-Y) / (X+Y) )\n",
    "        \n",
    "    def apply_to_all_classes(self):\n",
    "        nmCl = max(self.pred.shape[3] - 1,1)  \n",
    "        return [VSI_AllClasses(self.true[...,d], self.pred[...,d]).VSI() for d in range(nmCl)].mean()"
   ]
  }
 ],
 "metadata": {
  "kernelspec": {
   "display_name": "Python 3",
   "language": "python",
   "name": "python3"
  },
  "language_info": {
   "codemirror_mode": {
    "name": "ipython",
    "version": 3
   },
   "file_extension": ".py",
   "mimetype": "text/x-python",
   "name": "python",
   "nbconvert_exporter": "python",
   "pygments_lexer": "ipython3",
   "version": "3.7.4"
  }
 },
 "nbformat": 4,
 "nbformat_minor": 4
}
