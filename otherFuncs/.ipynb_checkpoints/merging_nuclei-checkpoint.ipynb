{
 "cells": [
  {
   "cell_type": "code",
   "execution_count": 2,
   "metadata": {},
   "outputs": [],
   "source": [
    "import nibabel as nib\n",
    "import os, sys\n",
    "import numpy as np\n",
    "from tqdm import tqdm"
   ]
  },
  {
   "cell_type": "markdown",
   "metadata": {},
   "source": [
    "## Functions"
   ]
  },
  {
   "cell_type": "code",
   "execution_count": 3,
   "metadata": {},
   "outputs": [],
   "source": [
    "def saveImage(Image , Affine , Header , outDirectory):\n",
    "    \"\"\" Inputs:  Image , Affine , Header , outDirectory \"\"\"\n",
    "    out = nib.Nifti1Image((Image).astype('float32'),Affine)\n",
    "    out.get_header = Header\n",
    "    nib.save(out , outDirectory)\n",
    "\n",
    "def merging_Nuclei(Directory='', nuclei_tag=''):\n",
    "\n",
    "    fix_dir =  lambda x: os.path.abspath(x) + '/'\n",
    "\n",
    "    Nuclei = {\n",
    "                1: '1-THALAMUS',\n",
    "                2: '2-AV',\n",
    "                4: '4-VA',\n",
    "                5: '5-VLa',\n",
    "                6: '6-VLP',\n",
    "                7: '7-VPL',\n",
    "                8: '8-Pul',\n",
    "                9: '9-LGN',\n",
    "                10: '10-MGN',\n",
    "                11: '11-CM',\n",
    "                12: '12-MD-Pf',\n",
    "                13: '13-Hb',\n",
    "                14: '14-MTT'}\n",
    "\n",
    "    \n",
    "    Thalamus_header_info = nib.load( fix_dir(Directory) + '1-THALAMUS' + nuclei_tag + '.nii.gz' )\n",
    "    Size   = Thalamus_header_info.shape\n",
    "    Header = Thalamus_header_info.header\n",
    "    Affine = Thalamus_header_info.affine\n",
    "\n",
    "\n",
    "    merged_Mask = np.zeros(Size)\n",
    "\n",
    "    for cnt in list(Nuclei.keys())[1:]:   \n",
    "\n",
    "        msk = nib.load( fix_dir(Directory) + Nuclei[cnt] + nuclei_tag + '.nii.gz' ).get_fdata()\n",
    "        already_assigned_mask = merged_Mask > 0.5\n",
    "        msk *= ~already_assigned_mask\n",
    "        merged_Mask += cnt*msk   \n",
    "\n",
    "    saveImage(merged_Mask , Affine , Header , fix_dir(Directory) + 'AllLabels2.nii.gz')\n",
    "\n",
    "    return merged_Mask"
   ]
  },
  {
   "cell_type": "markdown",
   "metadata": {},
   "source": [
    "## Test on One Example"
   ]
  },
  {
   "cell_type": "code",
   "execution_count": null,
   "metadata": {},
   "outputs": [],
   "source": [
    "merged_Mask = merging_Nuclei(Directory=Directory_Predictions + '/vimp2_668_02282013_CD/', nuclei_tag='')\n",
    "\n",
    "nib.viewers.OrthoSlicer3D(merged_Mask).show()"
   ]
  },
  {
   "cell_type": "markdown",
   "metadata": {},
   "source": [
    "## Running on All Cases"
   ]
  },
  {
   "cell_type": "code",
   "execution_count": 22,
   "metadata": {},
   "outputs": [
    {
     "name": "stderr",
     "output_type": "stream",
     "text": [
      "Subject: 100%|██████████| 52/52 [00:31<00:00,  1.68it/s]\n"
     ]
    }
   ],
   "source": [
    "# Dir_crossVal = '/media/artin/Elements/Research/Thalamus/Datasets/ET/'\n",
    "\n",
    "# Directory_CNN_CSFn = '/media/artin/Elements/Research/Thalamus/Experiments/exp6/results/New_Results/New_Results_April_27_2020_CSFn2_Init_Main_wLR0.001/sE12_Cascade_FM00_Res_Unet2_NL3_LS_MyDice_US1_wLRScheduler_lr0.001_CSFn2_Init_Main_WITH_NEW_CASES_wBiasCorrection_CVs_all/2.5D_MV/'\n",
    "\n",
    "\n",
    "Directory_Predictions = '/media/artin/Elements/Research/Thalamus/Experiments/exp6/results/New_Results/New_Results_April_27_2020_Main_Ps_ET_Init_3T/sE12_Cascade_FM00_Res_Unet2_NL3_LS_MyDice_US1_wLRScheduler_Main_Ps_ET_Init_3T_CVs_all/2.5D_MV/'\n",
    "\n",
    "\n",
    "for vimp in tqdm([v for v in os.listdir(Directory_Predictions) if 'vimp' in v], 'Subject'):\n",
    "    merging_Nuclei(Directory=Directory_Predictions + vimp , nuclei_tag='')    # for Predictions\n",
    "    # merging_Nuclei(Directory=Directory_Predictions + vimp + '/Label', nuclei_tag='_PProcessed')  # for Manual Labels\n",
    "\n",
    "\n",
    "\n"
   ]
  },
  {
   "cell_type": "code",
   "execution_count": null,
   "metadata": {},
   "outputs": [],
   "source": []
  }
 ],
 "metadata": {
  "kernelspec": {
   "display_name": "Python 3",
   "language": "python",
   "name": "python3"
  },
  "language_info": {
   "codemirror_mode": {
    "name": "ipython",
    "version": 3
   },
   "file_extension": ".py",
   "mimetype": "text/x-python",
   "name": "python",
   "nbconvert_exporter": "python",
   "pygments_lexer": "ipython3",
   "version": "3.7.4"
  }
 },
 "nbformat": 4,
 "nbformat_minor": 4
}
