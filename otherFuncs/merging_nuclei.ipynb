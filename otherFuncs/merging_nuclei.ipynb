{
 "cells": [
  {
   "cell_type": "code",
   "execution_count": 1,
   "metadata": {},
   "outputs": [],
   "source": [
    "import nibabel as nib\n",
    "import os, sys\n",
    "import numpy as np\n",
    "from tqdm import tqdm"
   ]
  },
  {
   "cell_type": "markdown",
   "metadata": {},
   "source": [
    "## Functions"
   ]
  },
  {
   "cell_type": "code",
   "execution_count": 2,
   "metadata": {},
   "outputs": [],
   "source": [
    "def saveImage(Image , Affine , Header , outDirectory):\n",
    "    \"\"\" Inputs:  Image , Affine , Header , outDirectory \"\"\"\n",
    "    out = nib.Nifti1Image((Image).astype('float32'),Affine)\n",
    "    out.get_header = Header\n",
    "    nib.save(out , outDirectory)\n",
    "\n",
    "    \n",
    "def fuse_nuclei(Directory, nuclei_tag='_PProcessed'):\n",
    "    \"\"\" Saving all of the predicted nuclei into one nifti image\n",
    "\n",
    "    Args:\n",
    "        Directory (str): The path to all predicted nuclei\n",
    "        mode (str, optional): Optional tag that can be added to the predicted nuclei names. Defaults to '_PProcessed'.\n",
    "    \"\"\"\n",
    "\n",
    "    Directory = os.path.abspath(Directory) + '/'\n",
    "\n",
    "    Nuclei = {\n",
    "        1: '1-THALAMUS',\n",
    "        2: '2-AV',\n",
    "        4: '4-VA',\n",
    "        5: '5-VLa',\n",
    "        6: '6-VLP',\n",
    "        7: '7-VPL',\n",
    "        8: '8-Pul',\n",
    "        9: '9-LGN',\n",
    "        10: '10-MGN',\n",
    "        11: '11-CM',\n",
    "        12: '12-MD-Pf',\n",
    "        13: '13-Hb',\n",
    "        14: '14-MTT'}\n",
    "            \n",
    "    mask = []\n",
    "\n",
    "    # Looping through all nuclei\n",
    "    for cnt, name in zip( Nuclei.keys() , Nuclei.values() ):\n",
    "\n",
    "        dirr = Directory + '/' + name + nuclei_tag + '.nii.gz'\n",
    "\n",
    "        if not os.path.isfile(dirr): continue\n",
    "\n",
    "        if cnt == 1:\n",
    "\n",
    "            # loading thalamus mask for the purpose of using its affine matrices & header\n",
    "            assert os.path.isfile(dirr), 'Thalamus mask does not exist'\n",
    "            thalamus_mask = nib.load(dirr)\n",
    "\n",
    "        else:\n",
    "\n",
    "            # saving the nuclei into one mask\n",
    "            msk = nib.load(dirr).get_data() > 0.5\n",
    "            \n",
    "            if mask == []:\n",
    "                # saving the first nucleus (2-AV)\n",
    "                mask = cnt * msk\n",
    "\n",
    "            else:\n",
    "                # saving the remaining nuclei, while randomly assigning a label from the labels \n",
    "                # that exist in the overlapping area\n",
    "                mask_temp = mask.copy()\n",
    "                mask_temp[msk == 0] = 0\n",
    "                x = np.where(mask_temp > 0)\n",
    "                if x[0].shape[0] > 0:\n",
    "                    fg = np.random.randn(x[0].shape[0])\n",
    "                    fg1, fg2 = fg >= 0, fg < 0\n",
    "                    mask[x[0][fg1], x[1][fg1], x[2][fg1]] = 0\n",
    "                    msk[x[0][fg2], x[1][fg2], x[2][fg2]] = 0\n",
    "\n",
    "                mask += cnt * msk\n",
    "\n",
    "    # Saving the final multi-label segmentaion mask as a nifti image\n",
    "    saveImage(mask, thalamus_mask.affine, thalamus_mask.header, Directory + '/AllLabels.nii.gz')\n"
   ]
  },
  {
   "cell_type": "markdown",
   "metadata": {},
   "source": [
    "## Test on One Example"
   ]
  },
  {
   "cell_type": "code",
   "execution_count": 5,
   "metadata": {},
   "outputs": [
    {
     "name": "stderr",
     "output_type": "stream",
     "text": "/array/ssd/msmajdi/anaconda3/envs/new-env-fb/lib/python3.6/site-packages/ipykernel_launcher.py:53: DeprecationWarning: elementwise comparison failed; this will raise an error in the future.\n"
    }
   ],
   "source": [
    "Directory = '/array/hdd/msmajdi/data/preprocessed/data_experiment/test/case_9_UA_Siemens_WMn/Label'\n",
    "\n",
    "fuse_nuclei(Directory=Directory, nuclei_tag='_PProcessed')\n",
    "\n",
    "# nib.viewers.OrthoSlicer3D(merged_Mask).show()"
   ]
  },
  {
   "cell_type": "markdown",
   "metadata": {},
   "source": [
    "## Running on All Cases"
   ]
  },
  {
   "cell_type": "code",
   "execution_count": 7,
   "metadata": {},
   "outputs": [
    {
     "name": "stdout",
     "output_type": "stream",
     "text": "0/22 case_17_UCLA_Siemens_WMn\n/array/ssd/msmajdi/anaconda3/envs/new-env-fb/lib/python3.6/site-packages/ipykernel_launcher.py:53: DeprecationWarning: elementwise comparison failed; this will raise an error in the future.\n1/22 case_19_UCLA_Siemens_WMn\n2/22 case_20_UCLA_Siemens_WMn\n3/22 case_21_UCLA_Siemens_WMn\n4/22 case_7_UA_Siemens_WMn\n5/22 case_884_06272013_TS_GE_WMn\n6/22 case_8_UA_Siemens_WMn\n7/22 case_901_07052013_AS_GE_WMn\n8/22 case_915_07112013_LC_GE_WMn\n9/22 case_943_07242013_PA_GE_WMn\n10/22 case_964_08092013_TG_GE_WMn\n11/22 case_9_UA_Siemens_WMn\n12/22 case_ctrl_920_07122013_SW_GE_WMn\n13/22 case_ctrl_921_07122013_MP_GE_WMn\n14/22 case_ctrl_925_07152013_LS_GE_WMn\n15/22 case_F_3T_ET_GE_WMn\n16/22 case_F_7T_ET_GE_WMn\n17/22 case_H_3T_ET_GE_WMn\n18/22 case_H_7T_ET_GE_WMn\n19/22 case_I_3T_ET_GE_WMn\n20/22 case_I_7T_ET_GE_WMn\n21/22 case_L_3T_ET_GE_WMn\n22/22 case_L_7T_ET_GE_WMn\n"
    }
   ],
   "source": [
    "Directory = '/array/hdd/msmajdi/data/preprocessed/data_experiment/test/'\n",
    "\n",
    "subjects = next( os.walk(Directory) )[1]\n",
    "for cnt, subj in enumerate(subjects):\n",
    "    print(str(cnt)+'/'+str(len(subjects)-1), subj)\n",
    "    # merging_Nuclei(Directory=Directory_Predictions + vimp , nuclei_tag='')    # for Predictions\n",
    "    fuse_nuclei(Directory=Directory + subj + '/Label', nuclei_tag='_PProcessed')  # for Manual Labels\n"
   ]
  },
  {
   "cell_type": "code",
   "execution_count": null,
   "metadata": {},
   "outputs": [],
   "source": []
  }
 ],
 "metadata": {
  "kernelspec": {
   "display_name": "Python 3",
   "language": "python",
   "name": "python3"
  },
  "language_info": {
   "codemirror_mode": {
    "name": "ipython",
    "version": 3
   },
   "file_extension": ".py",
   "mimetype": "text/x-python",
   "name": "python",
   "nbconvert_exporter": "python",
   "pygments_lexer": "ipython3",
   "version": "3.6.9-final"
  }
 },
 "nbformat": 4,
 "nbformat_minor": 4
}