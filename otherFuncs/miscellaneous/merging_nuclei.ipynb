{
 "cells": [
  {
   "cell_type": "code",
   "execution_count": 1,
   "metadata": {},
   "outputs": [],
   "source": [
    "import nibabel as nib\n",
    "import os, sys\n",
    "import numpy as np\n",
    "from tqdm import tqdm"
   ]
  },
  {
   "cell_type": "markdown",
   "metadata": {},
   "source": [
    "## Functions"
   ]
  },
  {
   "cell_type": "code",
   "execution_count": 2,
   "metadata": {},
   "outputs": [],
   "source": [
    "def saveImage(Image , Affine , Header , outDirectory):\n",
    "    \"\"\" Inputs:  Image , Affine , Header , outDirectory \"\"\"\n",
    "    out = nib.Nifti1Image((Image).astype('float32'),Affine)\n",
    "    out.get_header = Header\n",
    "    nib.save(out , outDirectory)\n",
    "\n",
    "    \n",
    "def fuse_nuclei(Directory, nuclei_tag='_PProcessed'):\n",
    "    \"\"\" Saving all of the predicted nuclei into one nifti image\n",
    "\n",
    "    Args:\n",
    "        Directory (str): The path to all predicted nuclei\n",
    "        mode (str, optional): Optional tag that can be added to the predicted nuclei names. Defaults to '_PProcessed'.\n",
    "    \"\"\"\n",
    "\n",
    "    Directory = os.path.abspath(Directory) + '/'\n",
    "\n",
    "    Nuclei = {\n",
    "        1: '1-THALAMUS',\n",
    "        2: '2-AV',\n",
    "        4: '4-VA',\n",
    "        5: '5-VLa',\n",
    "        6: '6-VLP',\n",
    "        7: '7-VPL',\n",
    "        8: '8-Pul',\n",
    "        9: '9-LGN',\n",
    "        10: '10-MGN',\n",
    "        11: '11-CM',\n",
    "        12: '12-MD-Pf',\n",
    "        13: '13-Hb',\n",
    "        14: '14-MTT'}\n",
    "            \n",
    "    mask = []\n",
    "\n",
    "    # Looping through all nuclei\n",
    "    for cnt, name in zip( Nuclei.keys() , Nuclei.values() ):\n",
    "\n",
    "        dirr = Directory + '/' + name + nuclei_tag + '.nii.gz'\n",
    "\n",
    "        if not os.path.isfile(dirr): continue\n",
    "\n",
    "        if cnt == 1:\n",
    "\n",
    "            # loading thalamus mask for the purpose of using its affine matrices & header\n",
    "            assert os.path.isfile(dirr), 'Thalamus mask does not exist'\n",
    "            thalamus_mask = nib.load(dirr)\n",
    "\n",
    "        else:\n",
    "\n",
    "            # saving the nuclei into one mask\n",
    "            msk = nib.load(dirr).get_fdata() > 0.5\n",
    "            \n",
    "            if mask == []:\n",
    "                # saving the first nucleus (2-AV)\n",
    "                mask = cnt * msk\n",
    "\n",
    "            else:\n",
    "                # saving the remaining nuclei, while randomly assigning a label from the labels \n",
    "                # that exist in the overlapping area\n",
    "                mask_temp = mask.copy()\n",
    "                mask_temp[msk == 0] = 0\n",
    "                x = np.where(mask_temp > 0)\n",
    "                if x[0].shape[0] > 0:\n",
    "                    fg = np.random.randn(x[0].shape[0])\n",
    "                    fg1, fg2 = fg >= 0, fg < 0\n",
    "                    mask[x[0][fg1], x[1][fg1], x[2][fg1]] = 0\n",
    "                    msk[x[0][fg2], x[1][fg2], x[2][fg2]] = 0\n",
    "\n",
    "                mask += cnt * msk\n",
    "\n",
    "    # Saving the final multi-label segmentaion mask as a nifti image\n",
    "    saveImage(mask, thalamus_mask.affine, thalamus_mask.header, Directory + '/AllLabels.nii.gz')\n"
   ]
  },
  {
   "cell_type": "markdown",
   "metadata": {},
   "source": [
    "## Test on One Example"
   ]
  },
  {
   "cell_type": "code",
   "execution_count": 3,
   "metadata": {},
   "outputs": [
    {
     "output_type": "error",
     "ename": "UnboundLocalError",
     "evalue": "local variable 'thalamus_mask' referenced before assignment",
     "traceback": [
      "\u001b[0;31m---------------------------------------------------------------------------\u001b[0m",
      "\u001b[0;31mUnboundLocalError\u001b[0m                         Traceback (most recent call last)",
      "\u001b[0;32m<ipython-input-3-463c3126e081>\u001b[0m in \u001b[0;36m<module>\u001b[0;34m\u001b[0m\n\u001b[1;32m      1\u001b[0m \u001b[0mDirectory\u001b[0m \u001b[0;34m=\u001b[0m \u001b[0;34m'path-to-manual-labels'\u001b[0m\u001b[0;34m\u001b[0m\u001b[0;34m\u001b[0m\u001b[0m\n\u001b[1;32m      2\u001b[0m \u001b[0;34m\u001b[0m\u001b[0m\n\u001b[0;32m----> 3\u001b[0;31m \u001b[0mfuse_nuclei\u001b[0m\u001b[0;34m(\u001b[0m\u001b[0mDirectory\u001b[0m\u001b[0;34m=\u001b[0m\u001b[0mDirectory\u001b[0m\u001b[0;34m,\u001b[0m \u001b[0mnuclei_tag\u001b[0m\u001b[0;34m=\u001b[0m\u001b[0;34m'_PProcessed'\u001b[0m\u001b[0;34m)\u001b[0m\u001b[0;34m\u001b[0m\u001b[0;34m\u001b[0m\u001b[0m\n\u001b[0m\u001b[1;32m      4\u001b[0m \u001b[0;34m\u001b[0m\u001b[0m\n\u001b[1;32m      5\u001b[0m \u001b[0;31m# nib.viewers.OrthoSlicer3D(merged_Mask).show()\u001b[0m\u001b[0;34m\u001b[0m\u001b[0;34m\u001b[0m\u001b[0;34m\u001b[0m\u001b[0m\n",
      "\u001b[0;32m<ipython-input-2-e687ee4f52cc>\u001b[0m in \u001b[0;36mfuse_nuclei\u001b[0;34m(Directory, nuclei_tag)\u001b[0m\n\u001b[1;32m     70\u001b[0m \u001b[0;34m\u001b[0m\u001b[0m\n\u001b[1;32m     71\u001b[0m     \u001b[0;31m# Saving the final multi-label segmentaion mask as a nifti image\u001b[0m\u001b[0;34m\u001b[0m\u001b[0;34m\u001b[0m\u001b[0;34m\u001b[0m\u001b[0m\n\u001b[0;32m---> 72\u001b[0;31m     \u001b[0msaveImage\u001b[0m\u001b[0;34m(\u001b[0m\u001b[0mmask\u001b[0m\u001b[0;34m,\u001b[0m \u001b[0mthalamus_mask\u001b[0m\u001b[0;34m.\u001b[0m\u001b[0maffine\u001b[0m\u001b[0;34m,\u001b[0m \u001b[0mthalamus_mask\u001b[0m\u001b[0;34m.\u001b[0m\u001b[0mheader\u001b[0m\u001b[0;34m,\u001b[0m \u001b[0mDirectory\u001b[0m \u001b[0;34m+\u001b[0m \u001b[0;34m'/AllLabels.nii.gz'\u001b[0m\u001b[0;34m)\u001b[0m\u001b[0;34m\u001b[0m\u001b[0;34m\u001b[0m\u001b[0m\n\u001b[0m",
      "\u001b[0;31mUnboundLocalError\u001b[0m: local variable 'thalamus_mask' referenced before assignment"
     ]
    }
   ],
   "source": [
    "Directory = 'path-to-manual-labels'\n",
    "\n",
    "fuse_nuclei(Directory=Directory, nuclei_tag='_PProcessed')\n",
    "\n",
    "# nib.viewers.OrthoSlicer3D(merged_Mask).show()"
   ]
  },
  {
   "cell_type": "markdown",
   "metadata": {},
   "source": [
    "## Running on All Cases"
   ]
  },
  {
   "cell_type": "code",
   "execution_count": 4,
   "metadata": {},
   "outputs": [
    {
     "output_type": "error",
     "ename": "StopIteration",
     "evalue": "",
     "traceback": [
      "\u001b[0;31m---------------------------------------------------------------------------\u001b[0m",
      "\u001b[0;31mStopIteration\u001b[0m                             Traceback (most recent call last)",
      "\u001b[0;32m<ipython-input-4-47b5665d317f>\u001b[0m in \u001b[0;36m<module>\u001b[0;34m\u001b[0m\n\u001b[1;32m      1\u001b[0m \u001b[0mDirectory\u001b[0m \u001b[0;34m=\u001b[0m \u001b[0;34m'path-to-all-cases'\u001b[0m\u001b[0;34m\u001b[0m\u001b[0;34m\u001b[0m\u001b[0m\n\u001b[1;32m      2\u001b[0m \u001b[0;34m\u001b[0m\u001b[0m\n\u001b[0;32m----> 3\u001b[0;31m \u001b[0msubjects\u001b[0m \u001b[0;34m=\u001b[0m \u001b[0mnext\u001b[0m\u001b[0;34m(\u001b[0m \u001b[0mos\u001b[0m\u001b[0;34m.\u001b[0m\u001b[0mwalk\u001b[0m\u001b[0;34m(\u001b[0m\u001b[0mDirectory\u001b[0m\u001b[0;34m)\u001b[0m \u001b[0;34m)\u001b[0m\u001b[0;34m[\u001b[0m\u001b[0;36m1\u001b[0m\u001b[0;34m]\u001b[0m\u001b[0;34m\u001b[0m\u001b[0;34m\u001b[0m\u001b[0m\n\u001b[0m\u001b[1;32m      4\u001b[0m \u001b[0;32mfor\u001b[0m \u001b[0mcnt\u001b[0m\u001b[0;34m,\u001b[0m \u001b[0msubj\u001b[0m \u001b[0;32min\u001b[0m \u001b[0menumerate\u001b[0m\u001b[0;34m(\u001b[0m\u001b[0msubjects\u001b[0m\u001b[0;34m)\u001b[0m\u001b[0;34m:\u001b[0m\u001b[0;34m\u001b[0m\u001b[0;34m\u001b[0m\u001b[0m\n\u001b[1;32m      5\u001b[0m     \u001b[0mprint\u001b[0m\u001b[0;34m(\u001b[0m\u001b[0mstr\u001b[0m\u001b[0;34m(\u001b[0m\u001b[0mcnt\u001b[0m\u001b[0;34m)\u001b[0m\u001b[0;34m+\u001b[0m\u001b[0;34m'/'\u001b[0m\u001b[0;34m+\u001b[0m\u001b[0mstr\u001b[0m\u001b[0;34m(\u001b[0m\u001b[0mlen\u001b[0m\u001b[0;34m(\u001b[0m\u001b[0msubjects\u001b[0m\u001b[0;34m)\u001b[0m\u001b[0;34m-\u001b[0m\u001b[0;36m1\u001b[0m\u001b[0;34m)\u001b[0m\u001b[0;34m,\u001b[0m \u001b[0msubj\u001b[0m\u001b[0;34m)\u001b[0m\u001b[0;34m\u001b[0m\u001b[0;34m\u001b[0m\u001b[0m\n",
      "\u001b[0;31mStopIteration\u001b[0m: "
     ]
    }
   ],
   "source": [
    "Directory = 'path-to-all-cases'\n",
    "\n",
    "subjects = next( os.walk(Directory) )[1]\n",
    "for cnt, subj in enumerate(subjects):\n",
    "    print(str(cnt)+'/'+str(len(subjects)-1), subj)\n",
    "    # merging_Nuclei(Directory=Directory_Predictions + vimp , nuclei_tag='')    # for Predictions\n",
    "    fuse_nuclei(Directory=Directory + subj + '/Label', nuclei_tag='_PProcessed')  # for Manual Labels\n"
   ]
  },
  {
   "cell_type": "code",
   "execution_count": null,
   "metadata": {},
   "outputs": [],
   "source": []
  }
 ],
 "metadata": {
  "kernelspec": {
   "display_name": "Python 3",
   "language": "python",
   "name": "python3"
  },
  "language_info": {
   "codemirror_mode": {
    "name": "ipython",
    "version": 3
   },
   "file_extension": ".py",
   "mimetype": "text/x-python",
   "name": "python",
   "nbconvert_exporter": "python",
   "pygments_lexer": "ipython3",
   "version": "3.7.4-final"
  }
 },
 "nbformat": 4,
 "nbformat_minor": 4
}